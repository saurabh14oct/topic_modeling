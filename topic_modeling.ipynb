{
 "cells": [
  {
   "cell_type": "code",
   "execution_count": 1,
   "metadata": {},
   "outputs": [],
   "source": [
    "import pandas as pd\n",
    "\n",
    "data = pd.read_csv('data/abcnews-date-text.csv', error_bad_lines=False);\n",
    "data_text = data[['headline_text']]\n",
    "data_text['index'] = data_text.index\n",
    "documents = data_text"
   ]
  },
  {
   "cell_type": "code",
   "execution_count": 2,
   "metadata": {},
   "outputs": [
    {
     "data": {
      "text/plain": [
       "1103663"
      ]
     },
     "execution_count": 2,
     "metadata": {},
     "output_type": "execute_result"
    }
   ],
   "source": [
    "len(documents)"
   ]
  },
  {
   "cell_type": "code",
   "execution_count": 3,
   "metadata": {},
   "outputs": [
    {
     "name": "stdout",
     "output_type": "stream",
     "text": [
      "                                       headline_text  index\n",
      "0  aba decides against community broadcasting lic...      0\n",
      "1     act fire witnesses must be aware of defamation      1\n",
      "2     a g calls for infrastructure protection summit      2\n",
      "3           air nz staff in aust strike for pay rise      3\n",
      "4      air nz strike to affect australian travellers      4\n"
     ]
    }
   ],
   "source": [
    "print(documents[:5])"
   ]
  },
  {
   "cell_type": "code",
   "execution_count": 6,
   "metadata": {},
   "outputs": [],
   "source": [
    "import gensim\n",
    "from gensim.utils import simple_preprocess\n",
    "from gensim.parsing.preprocessing import STOPWORDS\n",
    "from nltk.stem import WordNetLemmatizer, SnowballStemmer\n",
    "from nltk.stem.porter import *\n",
    "import numpy as np\n",
    "np.random.seed(2018)"
   ]
  },
  {
   "cell_type": "code",
   "execution_count": 7,
   "metadata": {},
   "outputs": [
    {
     "name": "stderr",
     "output_type": "stream",
     "text": [
      "[nltk_data] Downloading package wordnet to\n",
      "[nltk_data]     /Users/saurabh33.kumar/nltk_data...\n",
      "[nltk_data]   Package wordnet is already up-to-date!\n"
     ]
    },
    {
     "data": {
      "text/plain": [
       "True"
      ]
     },
     "execution_count": 7,
     "metadata": {},
     "output_type": "execute_result"
    }
   ],
   "source": [
    "import nltk\n",
    "nltk.download('wordnet')"
   ]
  },
  {
   "cell_type": "code",
   "execution_count": 8,
   "metadata": {},
   "outputs": [
    {
     "name": "stdout",
     "output_type": "stream",
     "text": [
      "go\n"
     ]
    }
   ],
   "source": [
    "print(WordNetLemmatizer().lemmatize('went', pos='v'))"
   ]
  },
  {
   "cell_type": "code",
   "execution_count": 9,
   "metadata": {},
   "outputs": [
    {
     "data": {
      "text/html": [
       "<div>\n",
       "<style scoped>\n",
       "    .dataframe tbody tr th:only-of-type {\n",
       "        vertical-align: middle;\n",
       "    }\n",
       "\n",
       "    .dataframe tbody tr th {\n",
       "        vertical-align: top;\n",
       "    }\n",
       "\n",
       "    .dataframe thead th {\n",
       "        text-align: right;\n",
       "    }\n",
       "</style>\n",
       "<table border=\"1\" class=\"dataframe\">\n",
       "  <thead>\n",
       "    <tr style=\"text-align: right;\">\n",
       "      <th></th>\n",
       "      <th>original word</th>\n",
       "      <th>stemmed</th>\n",
       "    </tr>\n",
       "  </thead>\n",
       "  <tbody>\n",
       "    <tr>\n",
       "      <td>0</td>\n",
       "      <td>caresses</td>\n",
       "      <td>caress</td>\n",
       "    </tr>\n",
       "    <tr>\n",
       "      <td>1</td>\n",
       "      <td>flies</td>\n",
       "      <td>fli</td>\n",
       "    </tr>\n",
       "    <tr>\n",
       "      <td>2</td>\n",
       "      <td>dies</td>\n",
       "      <td>die</td>\n",
       "    </tr>\n",
       "    <tr>\n",
       "      <td>3</td>\n",
       "      <td>mules</td>\n",
       "      <td>mule</td>\n",
       "    </tr>\n",
       "    <tr>\n",
       "      <td>4</td>\n",
       "      <td>denied</td>\n",
       "      <td>deni</td>\n",
       "    </tr>\n",
       "    <tr>\n",
       "      <td>5</td>\n",
       "      <td>died</td>\n",
       "      <td>die</td>\n",
       "    </tr>\n",
       "    <tr>\n",
       "      <td>6</td>\n",
       "      <td>agreed</td>\n",
       "      <td>agre</td>\n",
       "    </tr>\n",
       "    <tr>\n",
       "      <td>7</td>\n",
       "      <td>owned</td>\n",
       "      <td>own</td>\n",
       "    </tr>\n",
       "    <tr>\n",
       "      <td>8</td>\n",
       "      <td>humbled</td>\n",
       "      <td>humbl</td>\n",
       "    </tr>\n",
       "    <tr>\n",
       "      <td>9</td>\n",
       "      <td>sized</td>\n",
       "      <td>size</td>\n",
       "    </tr>\n",
       "    <tr>\n",
       "      <td>10</td>\n",
       "      <td>meeting</td>\n",
       "      <td>meet</td>\n",
       "    </tr>\n",
       "    <tr>\n",
       "      <td>11</td>\n",
       "      <td>stating</td>\n",
       "      <td>state</td>\n",
       "    </tr>\n",
       "    <tr>\n",
       "      <td>12</td>\n",
       "      <td>siezing</td>\n",
       "      <td>siez</td>\n",
       "    </tr>\n",
       "    <tr>\n",
       "      <td>13</td>\n",
       "      <td>itemization</td>\n",
       "      <td>item</td>\n",
       "    </tr>\n",
       "    <tr>\n",
       "      <td>14</td>\n",
       "      <td>sensational</td>\n",
       "      <td>sensat</td>\n",
       "    </tr>\n",
       "    <tr>\n",
       "      <td>15</td>\n",
       "      <td>traditional</td>\n",
       "      <td>tradit</td>\n",
       "    </tr>\n",
       "    <tr>\n",
       "      <td>16</td>\n",
       "      <td>reference</td>\n",
       "      <td>refer</td>\n",
       "    </tr>\n",
       "    <tr>\n",
       "      <td>17</td>\n",
       "      <td>colonizer</td>\n",
       "      <td>colon</td>\n",
       "    </tr>\n",
       "    <tr>\n",
       "      <td>18</td>\n",
       "      <td>plotted</td>\n",
       "      <td>plot</td>\n",
       "    </tr>\n",
       "  </tbody>\n",
       "</table>\n",
       "</div>"
      ],
      "text/plain": [
       "   original word stemmed\n",
       "0       caresses  caress\n",
       "1          flies     fli\n",
       "2           dies     die\n",
       "3          mules    mule\n",
       "4         denied    deni\n",
       "5           died     die\n",
       "6         agreed    agre\n",
       "7          owned     own\n",
       "8        humbled   humbl\n",
       "9          sized    size\n",
       "10       meeting    meet\n",
       "11       stating   state\n",
       "12       siezing    siez\n",
       "13   itemization    item\n",
       "14   sensational  sensat\n",
       "15   traditional  tradit\n",
       "16     reference   refer\n",
       "17     colonizer   colon\n",
       "18       plotted    plot"
      ]
     },
     "execution_count": 9,
     "metadata": {},
     "output_type": "execute_result"
    }
   ],
   "source": [
    "stemmer = SnowballStemmer('english')\n",
    "original_words = ['caresses', 'flies', 'dies', 'mules', 'denied','died', 'agreed', 'owned', \n",
    "           'humbled', 'sized','meeting', 'stating', 'siezing', 'itemization','sensational', \n",
    "           'traditional', 'reference', 'colonizer','plotted']\n",
    "singles = [stemmer.stem(plural) for plural in original_words]\n",
    "pd.DataFrame(data = {'original word': original_words, 'stemmed': singles})"
   ]
  },
  {
   "cell_type": "code",
   "execution_count": 10,
   "metadata": {},
   "outputs": [],
   "source": [
    "def lemmatize_stemming(text):\n",
    "    return stemmer.stem(WordNetLemmatizer().lemmatize(text, pos='v'))\n",
    "\n",
    "def preprocess(text):\n",
    "    result = []\n",
    "    for token in gensim.utils.simple_preprocess(text):\n",
    "        if token not in gensim.parsing.preprocessing.STOPWORDS and len(token) > 3:\n",
    "            result.append(lemmatize_stemming(token))\n",
    "    return result"
   ]
  },
  {
   "cell_type": "code",
   "execution_count": 11,
   "metadata": {},
   "outputs": [
    {
     "name": "stdout",
     "output_type": "stream",
     "text": [
      "original document: \n",
      "['rain', 'helps', 'dampen', 'bushfires']\n",
      "\n",
      "\n",
      " tokenized and lemmatized document: \n",
      "['rain', 'help', 'dampen', 'bushfir']\n"
     ]
    }
   ],
   "source": [
    "doc_sample = documents[documents['index'] == 4310].values[0][0]\n",
    "\n",
    "print('original document: ')\n",
    "words = []\n",
    "for word in doc_sample.split(' '):\n",
    "    words.append(word)\n",
    "print(words)\n",
    "print('\\n\\n tokenized and lemmatized document: ')\n",
    "print(preprocess(doc_sample))"
   ]
  },
  {
   "cell_type": "code",
   "execution_count": 12,
   "metadata": {},
   "outputs": [],
   "source": [
    "processed_docs = documents['headline_text'].map(preprocess)"
   ]
  },
  {
   "cell_type": "code",
   "execution_count": 13,
   "metadata": {},
   "outputs": [
    {
     "data": {
      "text/plain": [
       "0            [decid, communiti, broadcast, licenc]\n",
       "1                               [wit, awar, defam]\n",
       "2           [call, infrastructur, protect, summit]\n",
       "3                      [staff, aust, strike, rise]\n",
       "4             [strike, affect, australian, travel]\n",
       "5               [ambiti, olsson, win, tripl, jump]\n",
       "6           [antic, delight, record, break, barca]\n",
       "7    [aussi, qualifi, stosur, wast, memphi, match]\n",
       "8            [aust, address, secur, council, iraq]\n",
       "9                         [australia, lock, timet]\n",
       "Name: headline_text, dtype: object"
      ]
     },
     "execution_count": 13,
     "metadata": {},
     "output_type": "execute_result"
    }
   ],
   "source": [
    "processed_docs[:10]"
   ]
  },
  {
   "cell_type": "code",
   "execution_count": 14,
   "metadata": {},
   "outputs": [],
   "source": [
    "dictionary = gensim.corpora.Dictionary(processed_docs)"
   ]
  },
  {
   "cell_type": "code",
   "execution_count": 15,
   "metadata": {},
   "outputs": [
    {
     "data": {
      "text/plain": [
       "62159"
      ]
     },
     "execution_count": 15,
     "metadata": {},
     "output_type": "execute_result"
    }
   ],
   "source": [
    "len(dictionary)"
   ]
  },
  {
   "cell_type": "code",
   "execution_count": 16,
   "metadata": {},
   "outputs": [
    {
     "name": "stdout",
     "output_type": "stream",
     "text": [
      "0 broadcast\n",
      "1 communiti\n",
      "2 decid\n",
      "3 licenc\n",
      "4 awar\n",
      "5 defam\n",
      "6 wit\n",
      "7 call\n",
      "8 infrastructur\n",
      "9 protect\n",
      "10 summit\n"
     ]
    }
   ],
   "source": [
    "count = 0\n",
    "for k, v in dictionary.iteritems():\n",
    "    print(k, v)\n",
    "    count += 1\n",
    "    if count > 10:\n",
    "        break"
   ]
  },
  {
   "cell_type": "code",
   "execution_count": 17,
   "metadata": {},
   "outputs": [],
   "source": [
    "dictionary.filter_extremes(no_below=15, no_above=0.5, keep_n=100000)"
   ]
  },
  {
   "cell_type": "code",
   "execution_count": 18,
   "metadata": {},
   "outputs": [],
   "source": [
    "bow_corpus = [dictionary.doc2bow(doc) for doc in processed_docs]"
   ]
  },
  {
   "cell_type": "code",
   "execution_count": 20,
   "metadata": {},
   "outputs": [
    {
     "data": {
      "text/plain": [
       "[(4, 1), (5, 1), (6, 1)]"
      ]
     },
     "execution_count": 20,
     "metadata": {},
     "output_type": "execute_result"
    }
   ],
   "source": [
    "bow_corpus[1]"
   ]
  },
  {
   "cell_type": "code",
   "execution_count": 21,
   "metadata": {},
   "outputs": [
    {
     "name": "stdout",
     "output_type": "stream",
     "text": [
      "Word 76 (\"bushfir\") appears 1 time.\n",
      "Word 112 (\"help\") appears 1 time.\n",
      "Word 484 (\"rain\") appears 1 time.\n",
      "Word 4015 (\"dampen\") appears 1 time.\n"
     ]
    }
   ],
   "source": [
    "bow_doc_4310 = bow_corpus[4310]\n",
    "\n",
    "for i in range(len(bow_doc_4310)):\n",
    "    print(\"Word {} (\\\"{}\\\") appears {} time.\".format(bow_doc_4310[i][0], \n",
    "                                                     dictionary[bow_doc_4310[i][0]], \n",
    "                                                     bow_doc_4310[i][1]))"
   ]
  },
  {
   "cell_type": "code",
   "execution_count": 22,
   "metadata": {},
   "outputs": [],
   "source": [
    "from gensim import corpora, models\n",
    "\n",
    "tfidf = models.TfidfModel(bow_corpus)"
   ]
  },
  {
   "cell_type": "code",
   "execution_count": 23,
   "metadata": {},
   "outputs": [],
   "source": [
    "corpus_tfidf = tfidf[bow_corpus]"
   ]
  },
  {
   "cell_type": "code",
   "execution_count": 24,
   "metadata": {},
   "outputs": [
    {
     "name": "stdout",
     "output_type": "stream",
     "text": [
      "[(0, 0.5893154583024485),\n",
      " (1, 0.3892866165028569),\n",
      " (2, 0.49651921997736453),\n",
      " (3, 0.5046106271280878)]\n"
     ]
    }
   ],
   "source": [
    "from pprint import pprint\n",
    "\n",
    "for doc in corpus_tfidf:\n",
    "    pprint(doc)\n",
    "    break"
   ]
  },
  {
   "cell_type": "code",
   "execution_count": 25,
   "metadata": {},
   "outputs": [],
   "source": [
    "lda_model = gensim.models.LdaMulticore(bow_corpus, num_topics=10, id2word=dictionary, passes=2, workers=2)"
   ]
  },
  {
   "cell_type": "code",
   "execution_count": 26,
   "metadata": {},
   "outputs": [
    {
     "name": "stdout",
     "output_type": "stream",
     "text": [
      "Topic: 0 \n",
      "Words: 0.022*\"warn\" + 0.021*\"market\" + 0.018*\"hospit\" + 0.016*\"health\" + 0.015*\"share\" + 0.014*\"minist\" + 0.014*\"break\" + 0.014*\"school\" + 0.013*\"student\" + 0.013*\"worker\"\n",
      "Topic: 1 \n",
      "Words: 0.047*\"australian\" + 0.025*\"adelaid\" + 0.020*\"test\" + 0.017*\"tasmanian\" + 0.016*\"open\" + 0.016*\"win\" + 0.013*\"melbourn\" + 0.011*\"vote\" + 0.011*\"darwin\" + 0.010*\"parti\"\n",
      "Topic: 2 \n",
      "Words: 0.023*\"chang\" + 0.018*\"miss\" + 0.017*\"tasmania\" + 0.014*\"farmer\" + 0.014*\"concern\" + 0.013*\"fall\" + 0.013*\"busi\" + 0.012*\"show\" + 0.012*\"price\" + 0.011*\"search\"\n",
      "Topic: 3 \n",
      "Words: 0.031*\"govern\" + 0.022*\"south\" + 0.021*\"north\" + 0.017*\"countri\" + 0.016*\"rural\" + 0.014*\"hour\" + 0.014*\"fund\" + 0.014*\"west\" + 0.014*\"indigen\" + 0.012*\"australia\"\n",
      "Topic: 4 \n",
      "Words: 0.021*\"die\" + 0.020*\"live\" + 0.018*\"donald\" + 0.017*\"coast\" + 0.015*\"gold\" + 0.014*\"lose\" + 0.013*\"park\" + 0.012*\"royal\" + 0.012*\"beat\" + 0.010*\"head\"\n",
      "Topic: 5 \n",
      "Words: 0.028*\"elect\" + 0.022*\"sydney\" + 0.018*\"say\" + 0.014*\"labor\" + 0.014*\"time\" + 0.012*\"call\" + 0.012*\"train\" + 0.011*\"polit\" + 0.011*\"budget\" + 0.010*\"million\"\n",
      "Topic: 6 \n",
      "Words: 0.038*\"polic\" + 0.028*\"charg\" + 0.026*\"court\" + 0.020*\"murder\" + 0.017*\"face\" + 0.016*\"death\" + 0.015*\"woman\" + 0.015*\"alleg\" + 0.014*\"interview\" + 0.014*\"jail\"\n",
      "Topic: 7 \n",
      "Words: 0.034*\"trump\" + 0.025*\"world\" + 0.024*\"australia\" + 0.016*\"final\" + 0.016*\"china\" + 0.014*\"rise\" + 0.012*\"island\" + 0.012*\"leagu\" + 0.012*\"take\" + 0.011*\"citi\"\n",
      "Topic: 8 \n",
      "Words: 0.037*\"year\" + 0.030*\"queensland\" + 0.022*\"canberra\" + 0.014*\"investig\" + 0.014*\"children\" + 0.013*\"hous\" + 0.011*\"game\" + 0.011*\"releas\" + 0.010*\"life\" + 0.010*\"young\"\n",
      "Topic: 9 \n",
      "Words: 0.027*\"kill\" + 0.024*\"home\" + 0.019*\"crash\" + 0.019*\"attack\" + 0.017*\"turnbul\" + 0.014*\"road\" + 0.014*\"protest\" + 0.014*\"driver\" + 0.013*\"polic\" + 0.012*\"farm\"\n"
     ]
    }
   ],
   "source": [
    "for idx, topic in lda_model.print_topics(-1):\n",
    "    print('Topic: {} \\nWords: {}'.format(idx, topic))"
   ]
  },
  {
   "cell_type": "code",
   "execution_count": 27,
   "metadata": {},
   "outputs": [],
   "source": [
    "lda_model_tfidf = gensim.models.LdaMulticore(corpus_tfidf, num_topics=10, id2word=dictionary, passes=2, workers=4)"
   ]
  },
  {
   "cell_type": "code",
   "execution_count": 28,
   "metadata": {},
   "outputs": [
    {
     "name": "stdout",
     "output_type": "stream",
     "text": [
      "Topic: 0 Word: 0.021*\"countri\" + 0.019*\"hour\" + 0.010*\"podcast\" + 0.009*\"weather\" + 0.008*\"christma\" + 0.008*\"flood\" + 0.007*\"live\" + 0.006*\"rain\" + 0.006*\"drought\" + 0.006*\"queensland\"\n",
      "Topic: 1 Word: 0.010*\"govern\" + 0.008*\"health\" + 0.008*\"drum\" + 0.007*\"fund\" + 0.006*\"royal\" + 0.006*\"servic\" + 0.005*\"school\" + 0.005*\"commiss\" + 0.005*\"plan\" + 0.005*\"job\"\n",
      "Topic: 2 Word: 0.012*\"leagu\" + 0.009*\"final\" + 0.007*\"rugbi\" + 0.006*\"octob\" + 0.006*\"australia\" + 0.006*\"adelaid\" + 0.005*\"zealand\" + 0.005*\"coal\" + 0.005*\"super\" + 0.005*\"world\"\n",
      "Topic: 3 Word: 0.008*\"abbott\" + 0.007*\"sexual\" + 0.007*\"peter\" + 0.007*\"monday\" + 0.007*\"say\" + 0.007*\"violenc\" + 0.006*\"domest\" + 0.006*\"toni\" + 0.006*\"right\" + 0.005*\"histori\"\n",
      "Topic: 4 Word: 0.018*\"charg\" + 0.017*\"polic\" + 0.014*\"murder\" + 0.013*\"woman\" + 0.012*\"interview\" + 0.012*\"court\" + 0.010*\"death\" + 0.010*\"jail\" + 0.009*\"alleg\" + 0.009*\"crash\"\n",
      "Topic: 5 Word: 0.017*\"market\" + 0.011*\"share\" + 0.011*\"news\" + 0.010*\"rural\" + 0.009*\"price\" + 0.008*\"australian\" + 0.008*\"rise\" + 0.007*\"grandstand\" + 0.007*\"dollar\" + 0.007*\"busi\"\n",
      "Topic: 6 Word: 0.010*\"sport\" + 0.008*\"chang\" + 0.007*\"climat\" + 0.007*\"care\" + 0.006*\"outback\" + 0.006*\"andrew\" + 0.005*\"scott\" + 0.005*\"speak\" + 0.005*\"smith\" + 0.005*\"law\"\n",
      "Topic: 7 Word: 0.010*\"john\" + 0.008*\"marriag\" + 0.008*\"michael\" + 0.008*\"march\" + 0.007*\"decemb\" + 0.007*\"septemb\" + 0.007*\"video\" + 0.007*\"august\" + 0.006*\"mount\" + 0.006*\"cyclon\"\n",
      "Topic: 8 Word: 0.020*\"trump\" + 0.011*\"kill\" + 0.008*\"dead\" + 0.007*\"korea\" + 0.006*\"north\" + 0.006*\"attack\" + 0.006*\"crash\" + 0.005*\"bomb\" + 0.005*\"polic\" + 0.005*\"south\"\n",
      "Topic: 9 Word: 0.012*\"donald\" + 0.010*\"elect\" + 0.008*\"juli\" + 0.008*\"friday\" + 0.007*\"pacif\" + 0.006*\"open\" + 0.006*\"wrap\" + 0.006*\"islam\" + 0.006*\"univers\" + 0.006*\"april\"\n"
     ]
    }
   ],
   "source": [
    "for idx, topic in lda_model_tfidf.print_topics(-1):\n",
    "    print('Topic: {} Word: {}'.format(idx, topic))"
   ]
  },
  {
   "cell_type": "code",
   "execution_count": 29,
   "metadata": {},
   "outputs": [
    {
     "data": {
      "text/plain": [
       "['rain', 'help', 'dampen', 'bushfir']"
      ]
     },
     "execution_count": 29,
     "metadata": {},
     "output_type": "execute_result"
    }
   ],
   "source": [
    "processed_docs[4310]"
   ]
  },
  {
   "cell_type": "code",
   "execution_count": 30,
   "metadata": {},
   "outputs": [
    {
     "name": "stdout",
     "output_type": "stream",
     "text": [
      "\n",
      "Score: 0.531390368938446\t \n",
      "Topic: 0.027*\"kill\" + 0.024*\"home\" + 0.019*\"crash\" + 0.019*\"attack\" + 0.017*\"turnbul\" + 0.014*\"road\" + 0.014*\"protest\" + 0.014*\"driver\" + 0.013*\"polic\" + 0.012*\"farm\"\n",
      "\n",
      "Score: 0.3085598647594452\t \n",
      "Topic: 0.031*\"govern\" + 0.022*\"south\" + 0.021*\"north\" + 0.017*\"countri\" + 0.016*\"rural\" + 0.014*\"hour\" + 0.014*\"fund\" + 0.014*\"west\" + 0.014*\"indigen\" + 0.012*\"australia\"\n",
      "\n",
      "Score: 0.020008424296975136\t \n",
      "Topic: 0.023*\"chang\" + 0.018*\"miss\" + 0.017*\"tasmania\" + 0.014*\"farmer\" + 0.014*\"concern\" + 0.013*\"fall\" + 0.013*\"busi\" + 0.012*\"show\" + 0.012*\"price\" + 0.011*\"search\"\n",
      "\n",
      "Score: 0.020007207989692688\t \n",
      "Topic: 0.022*\"warn\" + 0.021*\"market\" + 0.018*\"hospit\" + 0.016*\"health\" + 0.015*\"share\" + 0.014*\"minist\" + 0.014*\"break\" + 0.014*\"school\" + 0.013*\"student\" + 0.013*\"worker\"\n",
      "\n",
      "Score: 0.02000632882118225\t \n",
      "Topic: 0.021*\"die\" + 0.020*\"live\" + 0.018*\"donald\" + 0.017*\"coast\" + 0.015*\"gold\" + 0.014*\"lose\" + 0.013*\"park\" + 0.012*\"royal\" + 0.012*\"beat\" + 0.010*\"head\"\n",
      "\n",
      "Score: 0.020006194710731506\t \n",
      "Topic: 0.038*\"polic\" + 0.028*\"charg\" + 0.026*\"court\" + 0.020*\"murder\" + 0.017*\"face\" + 0.016*\"death\" + 0.015*\"woman\" + 0.015*\"alleg\" + 0.014*\"interview\" + 0.014*\"jail\"\n",
      "\n",
      "Score: 0.020005956292152405\t \n",
      "Topic: 0.028*\"elect\" + 0.022*\"sydney\" + 0.018*\"say\" + 0.014*\"labor\" + 0.014*\"time\" + 0.012*\"call\" + 0.012*\"train\" + 0.011*\"polit\" + 0.011*\"budget\" + 0.010*\"million\"\n",
      "\n",
      "Score: 0.020005227997899055\t \n",
      "Topic: 0.034*\"trump\" + 0.025*\"world\" + 0.024*\"australia\" + 0.016*\"final\" + 0.016*\"china\" + 0.014*\"rise\" + 0.012*\"island\" + 0.012*\"leagu\" + 0.012*\"take\" + 0.011*\"citi\"\n",
      "\n",
      "Score: 0.020005222409963608\t \n",
      "Topic: 0.047*\"australian\" + 0.025*\"adelaid\" + 0.020*\"test\" + 0.017*\"tasmanian\" + 0.016*\"open\" + 0.016*\"win\" + 0.013*\"melbourn\" + 0.011*\"vote\" + 0.011*\"darwin\" + 0.010*\"parti\"\n",
      "\n",
      "Score: 0.020005222409963608\t \n",
      "Topic: 0.037*\"year\" + 0.030*\"queensland\" + 0.022*\"canberra\" + 0.014*\"investig\" + 0.014*\"children\" + 0.013*\"hous\" + 0.011*\"game\" + 0.011*\"releas\" + 0.010*\"life\" + 0.010*\"young\"\n"
     ]
    }
   ],
   "source": [
    "for index, score in sorted(lda_model[bow_corpus[4310]], key=lambda tup: -1*tup[1]):\n",
    "    print(\"\\nScore: {}\\t \\nTopic: {}\".format(score, lda_model.print_topic(index, 10)))"
   ]
  },
  {
   "cell_type": "code",
   "execution_count": 31,
   "metadata": {},
   "outputs": [
    {
     "name": "stdout",
     "output_type": "stream",
     "text": [
      "\n",
      "Score: 0.6105433702468872\t \n",
      "Topic: 0.021*\"countri\" + 0.019*\"hour\" + 0.010*\"podcast\" + 0.009*\"weather\" + 0.008*\"christma\" + 0.008*\"flood\" + 0.007*\"live\" + 0.006*\"rain\" + 0.006*\"drought\" + 0.006*\"queensland\"\n",
      "\n",
      "Score: 0.22937732934951782\t \n",
      "Topic: 0.012*\"leagu\" + 0.009*\"final\" + 0.007*\"rugbi\" + 0.006*\"octob\" + 0.006*\"australia\" + 0.006*\"adelaid\" + 0.005*\"zealand\" + 0.005*\"coal\" + 0.005*\"super\" + 0.005*\"world\"\n",
      "\n",
      "Score: 0.02001112326979637\t \n",
      "Topic: 0.010*\"govern\" + 0.008*\"health\" + 0.008*\"drum\" + 0.007*\"fund\" + 0.006*\"royal\" + 0.006*\"servic\" + 0.005*\"school\" + 0.005*\"commiss\" + 0.005*\"plan\" + 0.005*\"job\"\n",
      "\n",
      "Score: 0.02001035399734974\t \n",
      "Topic: 0.018*\"charg\" + 0.017*\"polic\" + 0.014*\"murder\" + 0.013*\"woman\" + 0.012*\"interview\" + 0.012*\"court\" + 0.010*\"death\" + 0.010*\"jail\" + 0.009*\"alleg\" + 0.009*\"crash\"\n",
      "\n",
      "Score: 0.02000986970961094\t \n",
      "Topic: 0.010*\"sport\" + 0.008*\"chang\" + 0.007*\"climat\" + 0.007*\"care\" + 0.006*\"outback\" + 0.006*\"andrew\" + 0.005*\"scott\" + 0.005*\"speak\" + 0.005*\"smith\" + 0.005*\"law\"\n",
      "\n",
      "Score: 0.020009860396385193\t \n",
      "Topic: 0.008*\"abbott\" + 0.007*\"sexual\" + 0.007*\"peter\" + 0.007*\"monday\" + 0.007*\"say\" + 0.007*\"violenc\" + 0.006*\"domest\" + 0.006*\"toni\" + 0.006*\"right\" + 0.005*\"histori\"\n",
      "\n",
      "Score: 0.02000967413187027\t \n",
      "Topic: 0.010*\"john\" + 0.008*\"marriag\" + 0.008*\"michael\" + 0.008*\"march\" + 0.007*\"decemb\" + 0.007*\"septemb\" + 0.007*\"video\" + 0.007*\"august\" + 0.006*\"mount\" + 0.006*\"cyclon\"\n",
      "\n",
      "Score: 0.02000962570309639\t \n",
      "Topic: 0.020*\"trump\" + 0.011*\"kill\" + 0.008*\"dead\" + 0.007*\"korea\" + 0.006*\"north\" + 0.006*\"attack\" + 0.006*\"crash\" + 0.005*\"bomb\" + 0.005*\"polic\" + 0.005*\"south\"\n",
      "\n",
      "Score: 0.02000945806503296\t \n",
      "Topic: 0.017*\"market\" + 0.011*\"share\" + 0.011*\"news\" + 0.010*\"rural\" + 0.009*\"price\" + 0.008*\"australian\" + 0.008*\"rise\" + 0.007*\"grandstand\" + 0.007*\"dollar\" + 0.007*\"busi\"\n",
      "\n",
      "Score: 0.020009299740195274\t \n",
      "Topic: 0.012*\"donald\" + 0.010*\"elect\" + 0.008*\"juli\" + 0.008*\"friday\" + 0.007*\"pacif\" + 0.006*\"open\" + 0.006*\"wrap\" + 0.006*\"islam\" + 0.006*\"univers\" + 0.006*\"april\"\n"
     ]
    }
   ],
   "source": [
    "for index, score in sorted(lda_model_tfidf[bow_corpus[4310]], key=lambda tup: -1*tup[1]):\n",
    "    print(\"\\nScore: {}\\t \\nTopic: {}\".format(score, lda_model_tfidf.print_topic(index, 10)))"
   ]
  },
  {
   "cell_type": "code",
   "execution_count": 32,
   "metadata": {},
   "outputs": [
    {
     "name": "stdout",
     "output_type": "stream",
     "text": [
      "Score: 0.3241119384765625\t Topic: 0.034*\"trump\" + 0.025*\"world\" + 0.024*\"australia\" + 0.016*\"final\" + 0.016*\"china\"\n",
      "Score: 0.2095828801393509\t Topic: 0.022*\"warn\" + 0.021*\"market\" + 0.018*\"hospit\" + 0.016*\"health\" + 0.015*\"share\"\n",
      "Score: 0.18333062529563904\t Topic: 0.038*\"polic\" + 0.028*\"charg\" + 0.026*\"court\" + 0.020*\"murder\" + 0.017*\"face\"\n",
      "Score: 0.1828743815422058\t Topic: 0.028*\"elect\" + 0.022*\"sydney\" + 0.018*\"say\" + 0.014*\"labor\" + 0.014*\"time\"\n",
      "Score: 0.016688944771885872\t Topic: 0.031*\"govern\" + 0.022*\"south\" + 0.021*\"north\" + 0.017*\"countri\" + 0.016*\"rural\"\n",
      "Score: 0.016682250425219536\t Topic: 0.047*\"australian\" + 0.025*\"adelaid\" + 0.020*\"test\" + 0.017*\"tasmanian\" + 0.016*\"open\"\n",
      "Score: 0.016682250425219536\t Topic: 0.023*\"chang\" + 0.018*\"miss\" + 0.017*\"tasmania\" + 0.014*\"farmer\" + 0.014*\"concern\"\n",
      "Score: 0.016682250425219536\t Topic: 0.021*\"die\" + 0.020*\"live\" + 0.018*\"donald\" + 0.017*\"coast\" + 0.015*\"gold\"\n",
      "Score: 0.016682250425219536\t Topic: 0.037*\"year\" + 0.030*\"queensland\" + 0.022*\"canberra\" + 0.014*\"investig\" + 0.014*\"children\"\n",
      "Score: 0.016682250425219536\t Topic: 0.027*\"kill\" + 0.024*\"home\" + 0.019*\"crash\" + 0.019*\"attack\" + 0.017*\"turnbul\"\n"
     ]
    }
   ],
   "source": [
    "unseen_document = 'How a Pentagon deal became an identity crisis for Google'\n",
    "bow_vector = dictionary.doc2bow(preprocess(unseen_document))\n",
    "\n",
    "for index, score in sorted(lda_model[bow_vector], key=lambda tup: -1*tup[1]):\n",
    "    print(\"Score: {}\\t Topic: {}\".format(score, lda_model.print_topic(index, 5)))"
   ]
  },
  {
   "cell_type": "code",
   "execution_count": null,
   "metadata": {},
   "outputs": [],
   "source": []
  }
 ],
 "metadata": {
  "kernelspec": {
   "display_name": "Python 3",
   "language": "python",
   "name": "python3"
  },
  "language_info": {
   "codemirror_mode": {
    "name": "ipython",
    "version": 3
   },
   "file_extension": ".py",
   "mimetype": "text/x-python",
   "name": "python",
   "nbconvert_exporter": "python",
   "pygments_lexer": "ipython3",
   "version": "3.7.1"
  }
 },
 "nbformat": 4,
 "nbformat_minor": 2
}
